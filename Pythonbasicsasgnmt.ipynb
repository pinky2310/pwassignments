{
  "nbformat": 4,
  "nbformat_minor": 0,
  "metadata": {
    "colab": {
      "provenance": []
    },
    "kernelspec": {
      "name": "python3",
      "display_name": "Python 3"
    },
    "language_info": {
      "name": "python"
    }
  },
  "cells": [
    {
      "cell_type": "markdown",
      "source": [
        "#**PYTHON BASICS ASSIGNMENT**"
      ],
      "metadata": {
        "id": "KV96QnpFzw7t"
      }
    },
    {
      "cell_type": "markdown",
      "source": [
        "####**PYTHON BASIC QUESTIONS**"
      ],
      "metadata": {
        "id": "i_6fnEBSKjia"
      }
    },
    {
      "cell_type": "markdown",
      "source": [
        "**1.** **What is python, and why is it popular?**\n",
        "- **Python** is a **programming language** that is easy to understand and write, making it a popular choice among developers and programmers.\n",
        "- It is mainly known for its **simplicity and readability**.\n",
        "\n",
        "-  Python is popular due to its versatility, extensive libraries, and frameworks, making it suitable for web development, data analysis, artificial intelligence, scientific computing, and automation. Its active community and strong support further contribute to its widespread adoption in both industry and academia.\n",
        "\n",
        "\n"
      ],
      "metadata": {
        "id": "_kZBh91W0H_g"
      }
    },
    {
      "cell_type": "markdown",
      "source": [
        "**2. What is an interpreter in Python?**\n",
        "  \n",
        "  - A Python **interpreter** is a program that reads and immediately executes Python code, line-by-line or statement-by-statement. It offers features like interactive execution, platform independence, dynamic typing, error handling, and rapid development. Popular Python interpreters include CPython, PyPy, Jython, and IronPython."
      ],
      "metadata": {
        "id": "hD8NIbO1XWmZ"
      }
    },
    {
      "cell_type": "markdown",
      "source": [
        "**3. What are pre-defined keywords in Python?**\n",
        " - **Keywords** are reserved words in Python that have special meanings and cannot be used as identifiers (variable names, function names, etc.).\n",
        "\n",
        " -**Examples of keywords** include if, else, while, for, def, class, import, try, except, return, True, False, None, etc.\n",
        "\n",
        " -Keywords are **case-sensitive** and **cannot be redefined** or **overridden** within a Python program."
      ],
      "metadata": {
        "id": "c7MN8vNraHR1"
      }
    },
    {
      "cell_type": "markdown",
      "source": [
        "**4. Can keywords be used as variable names?**\n",
        "  - No, keywords in Python cannot be used as variable names. Since keywords have special meanings and functions in the language, using them as identifiers would lead to syntaxError.\n",
        "  - For example, trying to name a variable if or class will result in a SyntaxError.\n",
        "\n",
        "```\n",
        "# Example 1: Using 'if' as a variable name\n",
        "if = 10  # This will raise a SyntaxError\n",
        "\n",
        "# Example 2: Using 'class' as a variable name\n",
        "class = \"MyClass\"  # This will also raise a SyntaxError\n",
        "\n",
        "```\n",
        "   - To avoid this, always choose variable names that are not reserved keywords."
      ],
      "metadata": {
        "id": "gh7AZ8lPbMvv"
      }
    },
    {
      "cell_type": "markdown",
      "source": [
        "**5. What is mutability in Python?**\n",
        "- In Python, **mutability** refers to the ability of an object to change its state or contents after it has been created. Mutable objects can be altered, while immutable objects cannot.\n",
        "\n",
        "\n",
        "\n",
        "- Examples of mutable objects include:\n",
        "     - Lists,\n",
        "     - Dictionaries,\n",
        "     - Sets.\n",
        "\n",
        " **Mutable Object (List)**\n",
        "\n",
        "```\n",
        "# Creating a mutable list\n",
        "my_list = [1, 2, 3]\n",
        "print(\"Original list:\", my_list)\n",
        "#output\n",
        "Original list: [1, 2, 3]\n",
        "\n",
        "\n",
        "# Modifying the list\n",
        "my_list.append(4)\n",
        "print(\"Modified list:\", my_list)\n",
        "#output\n",
        "Modified list: [1, 2, 3, 4]\n",
        "```\n",
        "\n",
        "\n",
        "\n",
        "\n",
        "\n",
        "\n",
        "\n"
      ],
      "metadata": {
        "id": "gKgBNoGDcArP"
      }
    },
    {
      "cell_type": "markdown",
      "source": [
        "**6. Why are lists mutable, but tuples are immutable?**\n",
        "- Lists in Python are mutable, allowing modification of their contents (adding, changing, or removing elements) after creation, which is useful for frequently updated data.\n",
        "- In contrast, tuples are immutable; once created, their contents cannot be changed. This immutability offers benefits like better performance and memory efficiency, hashability (can be used as dictionary keys), and data integrity (prevents accidental modifications).\n",
        "- The choice between lists and tuples depends on the need for mutability or immutability."
      ],
      "metadata": {
        "id": "EJfxTo8xiBoL"
      }
    },
    {
      "cell_type": "markdown",
      "source": [
        "**7. What is the difference between “==” and “is” operators in Python?**\n",
        "- In Python, == and is are two different operators that are used for comparison, but they serve distinct purposes:\n",
        "\n",
        "**1)** **== Operator (Equality):** The == operator checks for value equality. It determines whether the values of two objects are equal.\n",
        " - Example\n",
        "\n",
        "```\n",
        "a = [1, 2, 3]\n",
        "b = [1, 2, 3]\n",
        "print(a == b)  # Output: True (the values are the same)\n",
        "\n",
        "c = 5\n",
        "d = 5\n",
        "print(c == d)  # Output: True (the values are the same)\n",
        "```\n",
        "   **2) is Operator (Identity):** The is operator checks for object identity. It determines whether two references point to the same object in memory.\n",
        "\n",
        "\n",
        "```\n",
        "a = [1, 2, 3]\n",
        "b = a  # b references the same list object as a\n",
        "print(a is b)  # Output: True (both refer to the same object)\n",
        "\n",
        "c = [1, 2, 3]\n",
        "d = [1, 2, 3]\n",
        "print(c is d)  # Output: False (c and d are different objects in memory)\n",
        "\n",
        "```\n",
        "\n",
        "\n",
        "\n"
      ],
      "metadata": {
        "id": "7bkwGCavhp3Y"
      }
    },
    {
      "cell_type": "markdown",
      "source": [
        "**8. What are logical operators in Python?**\n",
        "-  In Python, **logical operators** are used to combine conditional statements or expressions and evaluate whether they are True or False.\n",
        "\n",
        "- There are three primary logical operators:\n",
        "  \n",
        "  **1)** **and :**\n",
        "- Returns True if both conditions are True.\n",
        "- Returns False if at least one of the conditions is False.\n",
        "\n",
        "\n",
        "\n",
        "```\n",
        "x = 5\n",
        "y = 10\n",
        "print(x > 3 and y < 15)  # True, because both conditions are true\n",
        "print(x > 3 and y > 15)  # False, because the second condition is false\n",
        "\n",
        "\n",
        "```\n",
        "**2) or :**\n",
        "   - Returns True if at least one of the conditions is True.\n",
        "   - Returns False only if both conditions are False.\n",
        "\n",
        "\n",
        "```\n",
        "x = 5\n",
        "y = 10\n",
        "print(x > 3 or y < 5)  # True, because the first condition is true\n",
        "print(x < 3 or y < 5)  # False, because both conditions are false\n",
        "\n",
        "```\n",
        "**3) not :**\n",
        "\n",
        "- Reverses the Boolean value of a condition.\n",
        "-It returns True if the condition is False and False if the condition is True.\n",
        "\n",
        "\n",
        "```\n",
        "x = 5\n",
        "print(not(x > 3))  # False, because x > 3 is true, and not reverses it\n",
        "print(not(x < 3))  # True, because x < 3 is false, and not reverses it\n",
        "\n",
        "```\n",
        "\n",
        "\n",
        "\n",
        "\n",
        "\n",
        "\n"
      ],
      "metadata": {
        "id": "WYUWAV802iT-"
      }
    },
    {
      "cell_type": "markdown",
      "source": [
        "**9. What is type casting in Python?**\n",
        "- **Type casting** in Python refers to the process of converting one data type to another. It allows to convert values between different types when needed, either automatically (implicit casting) or manually (explicit casting).\n",
        "\n",
        "- **Types of Type Casting:**\n",
        "\n",
        " **1) Implicit Type Casting (Automatic Type Conversion) :**\n",
        "\n",
        " - Python automatically converts one data type to another when necessary, such as when a smaller data type is used in an operation with a larger data type.\n",
        "\n",
        "  Example: Converting an int to a float automatically when performing arithmetic with a float.\n",
        "\n",
        "\n",
        "```\n",
        "x = 5     # int\n",
        "y = 2.5   # float\n",
        "result = x + y   # Result will be a float (7.5)\n",
        "print(result)    # Output: 7.5\n",
        "\n",
        "\n",
        "```\n",
        "**2) Explicit Type Casting (Manual Type Conversion) :**\n",
        "\n",
        "  - When you manually convert one data type to another using type conversion functions.\n",
        "  This is done using functions like int(), float(), str(), etc.\n",
        "\n",
        "\n",
        "\n",
        "```\n",
        "x = \"10\"        # string\n",
        "y = 5.5         # float\n",
        "\n",
        "# Convert string to integer\n",
        "x = int(x)\n",
        "print(x)  # Output: 10\n",
        "\n",
        "# Convert float to string\n",
        "y = str(y)\n",
        "print(y)  # Output: \"5.5\"\n",
        "\n",
        "\n",
        "```\n",
        "\n"
      ],
      "metadata": {
        "id": "mZP0EehQ7OWw"
      }
    },
    {
      "cell_type": "markdown",
      "source": [
        " **10) What is the difference between implicit and explicit type casting?**\n",
        " - **1. Implicit Type Casting (Automatic Type Conversion) :**\n",
        "    - Performed automatically by Python when a smaller or simpler data type is used in an operation with a larger or more complex data type.\n",
        "    - Python implicitly converts data to a higher data type to avoid losing information.\n",
        "\n",
        "     - Example: When an int is added to a float, the int is automatically converted to a float.\n",
        "\n",
        "\n",
        "```\n",
        "x = 5       # int\n",
        "y = 2.5     # float\n",
        "result = x + y  # int is implicitly converted to float\n",
        "print(result)    # Output: 7.5\n",
        "\n",
        "```\n",
        "\n",
        "- **2. Explicit Type Casting (Manual Type Conversion) :**\n",
        "      - Performed manually by the programmer using built-in functions like int(), float(), str(), etc.\n",
        "      - The programmer controls when and how the conversion happens.\n",
        "      - Example: Converting a float to an int explicitly using int().\n",
        "\n",
        "\n",
        "```\n",
        "x = 3.7\n",
        "y = int(x)   # Explicit conversion from float to int\n",
        "print(y)     # Output: 3\n",
        "\n",
        "\n",
        "```\n",
        "\n",
        "**Key Differences:**\n",
        "  -  Automatic vs Manual:\n",
        "**Implicit** casting happens automatically, whereas **explicit** casting requires the programmer to specify the conversion.\n",
        "  - When Used: **Implicit** casting occurs when operations involve different data types (e.g., int + float), while **explicit** casting is used when the programmer wants to force a conversion (e.g., converting float to int).\n"
      ],
      "metadata": {
        "id": "RsRMdPesHwyX"
      }
    },
    {
      "cell_type": "markdown",
      "source": [
        "**11. What is the purpose of conditional statements in Python?**\n",
        "\n",
        "- The purpose of conditional statements in Python is to:\n",
        "\n",
        "1. **Enable Decision Making**: Control the flow of execution based on conditions.\n",
        "2. **Allow Branching**: Execute different code paths depending on whether conditions are `True` or `False`.\n",
        "3. **Create Dynamic Behavior**: Respond to user input and changing states during program execution.\n",
        "4. **Implement Logic and Rules**: Enforce specific conditions and rules in data processing and application logic.\n",
        "5. **Facilitate Error Handling**: Check for valid inputs and navigate exceptions.\n",
        "\n",
        "In essence, they help programs make decisions and behave according to varying conditions."
      ],
      "metadata": {
        "id": "_X9sY2otKUFJ"
      }
    },
    {
      "cell_type": "markdown",
      "source": [
        "**12. How does the elif statement work?**\n",
        "- The **elif statement** in Python allows you to check multiple conditions sequentially after an if statement. If the if condition is False, it evaluates the elif conditions in order. If an elif condition is True, its block executes, and the rest are skipped. If none are True, an optional else block can execute.\n",
        "\n",
        "- Example:\n",
        "\n",
        "```\n",
        "x = 10\n",
        "\n",
        "if x < 5:\n",
        "    print(\"x is less than 5\")\n",
        "elif x < 15:\n",
        "    print(\"x is between 5 and 15\")\n",
        "else:\n",
        "    print(\"x is 15 or more\")\n",
        "\n",
        " # Output: x is between 5 and 15.\n",
        "\n",
        "```\n"
      ],
      "metadata": {
        "id": "oFsdu4EPL3-8"
      }
    },
    {
      "cell_type": "markdown",
      "source": [
        "**13) What is the difference between for and while loops?**\n",
        "- The difference between for and while loops is based on how they control the flow of execution:\n",
        "\n",
        "**1. for loop:**\n",
        "- Used to iterate over a sequence (like a list, tuple, string, or range).\n",
        "- Ideal when you know the number of iterations beforehand.\n",
        "- The loop stops automatically once the sequence is exhausted.\n",
        "- Example:\n",
        "\n",
        "\n",
        "```\n",
        "for i in range(5):  # Loops 5 times (i will take values 0, 1, 2, 3, 4)\n",
        "    print(i)\n",
        "#output:\n",
        "          0\n",
        "          1\n",
        "          2\n",
        "          3\n",
        "          4\n",
        "#The for loop iterates over the range 0 to 4 (5 iterations in total) and prints the value of i during each iteration.\n",
        "\n",
        "\n",
        "```\n",
        "\n",
        "\n",
        "**2. while loop:**\n",
        "- Executes as long as a specified condition is true.\n",
        "- Best used when the number of iterations is not known and depends on dynamic conditions.\n",
        "- Example:\n",
        "\n",
        "\n",
        "\n",
        "```\n",
        "# `while` loop example\n",
        "i = 0\n",
        "while i < 5:  # Continues looping as long as i is less than 5\n",
        "    print(i)\n",
        "    i += 1  # Increment i by 1 each time\n",
        "#output:  \n",
        "         0\n",
        "         1\n",
        "         2\n",
        "         3\n",
        "         4\n",
        "#The while loop starts with i = 0 and prints the value of i on each iteration.\n",
        "#The loop continues until i is no longer less than 5.\n",
        "#Each time, i is incremented by 1.\n",
        "\n",
        "\n",
        "\n",
        "```\n",
        "**Key Differences:**\n",
        "- The **for loop** is used when you have a specific range or sequence to iterate over.\n",
        "- The **while loop** continues as long as a condition remains True, and you often need to manually update the loop variable (like incrementing i in the example).\n",
        "\n",
        "\n",
        "\n",
        "\n",
        "\n"
      ],
      "metadata": {
        "id": "pNGyTQRHL4Dq"
      }
    },
    {
      "cell_type": "markdown",
      "source": [
        "**14)  Describe a scenario where a while loop is more suitable than a for loop.**\n",
        "- A **while loop** is more appropriate when you don't know in advance how many iterations will be needed, and the loop should continue until a specific condition is met. This is common when waiting for user input, monitoring ongoing events, or handling unpredictable situations.\n",
        "\n",
        "- Example: Prompting the User for Correct Password.\n",
        "\n",
        " - Imagine creating a login system where the user must enter the correct password. The number of attempts is unknown, so you need to keep asking for the password until it's correct.\n",
        "\n",
        "In this case, a while loop is ideal because it will keep running as long as the user enters an incorrect password.\n",
        "\n",
        "\n",
        "\n",
        "```\n",
        "correct_password = \"password123\"\n",
        "user_input = \"\"\n",
        "\n",
        "# Keep asking for the password until it's correct\n",
        "while user_input != correct_password:\n",
        "    user_input = input(\"Enter your password: \")\n",
        "    if user_input != correct_password:\n",
        "        print(\"Incorrect password. Try again.\")\n",
        "        \n",
        "print(\"Access granted!\")\n",
        "\n",
        "# output:\n",
        "Enter your password: passcode123\n",
        "Incorrect password. Try again.\n",
        "\n",
        "Enter your password: password123\n",
        "Access granted!\n",
        "```\n",
        "- The while loop continues executing as long as the user_input is not the correct password.\n",
        "- The number of attempts is uncertain, so the loop will run indefinitely until the condition (user_input == correct_password) is satisfied.\n",
        "- Once the user enters the correct password, the loop exits.\n",
        "- since, You can't predict how many attempts the user will need, making a for loop` unsuitable since it requires a predefined number of iterations.\n",
        "The loop should run until a condition is met, which is exactly what a while loop is designed for.Hence, while loop  is more preferable.\n",
        "\n",
        "\n",
        "\n",
        "\n",
        "\n",
        "\n"
      ],
      "metadata": {
        "id": "f4N6ZhMMQxms"
      }
    },
    {
      "cell_type": "markdown",
      "source": [
        "\n",
        "\n",
        "####**PRACTICAL QUESTIONS**"
      ],
      "metadata": {
        "id": "TD8bTzWccpX7"
      }
    },
    {
      "cell_type": "markdown",
      "source": [
        "**1) Write a Python program to print \"Hello, World!**\n"
      ],
      "metadata": {
        "id": "XxllCd-DQuRe"
      }
    },
    {
      "cell_type": "code",
      "source": [
        "print(\"Hello, World!\")"
      ],
      "metadata": {
        "colab": {
          "base_uri": "https://localhost:8080/"
        },
        "id": "29JVsZz5hnM-",
        "outputId": "2d076ee4-b951-477c-a903-3abee89d0d9d"
      },
      "execution_count": null,
      "outputs": [
        {
          "output_type": "stream",
          "name": "stdout",
          "text": [
            "Hello, World!\n"
          ]
        }
      ]
    },
    {
      "cell_type": "markdown",
      "source": [
        "**2) Write a Python program that displays your name and age.**"
      ],
      "metadata": {
        "id": "rNe_NYB3Qi_K"
      }
    },
    {
      "cell_type": "code",
      "source": [
        "name=\"pinky\"\n",
        "age=20\n",
        "print(\"Name:\",name)\n",
        "print(\"Age:\",age)"
      ],
      "metadata": {
        "colab": {
          "base_uri": "https://localhost:8080/"
        },
        "id": "RqFyGAqRiFMj",
        "outputId": "9d2df3c8-045d-4957-b152-3c4b29835577"
      },
      "execution_count": null,
      "outputs": [
        {
          "output_type": "stream",
          "name": "stdout",
          "text": [
            "Name: pinky\n",
            "Age: 20\n"
          ]
        }
      ]
    },
    {
      "cell_type": "markdown",
      "source": [
        "**3) Write code to print all the pre-defined keywords in Python using the keyword library.**"
      ],
      "metadata": {
        "id": "vIdYgLYEjG3I"
      }
    },
    {
      "cell_type": "code",
      "source": [
        "\n",
        "help(\"keywords\")"
      ],
      "metadata": {
        "colab": {
          "base_uri": "https://localhost:8080/"
        },
        "id": "fa96aLafjijO",
        "outputId": "66f408a3-0061-41c0-94bc-c570ca461d5d"
      },
      "execution_count": null,
      "outputs": [
        {
          "output_type": "stream",
          "name": "stdout",
          "text": [
            "\n",
            "Here is a list of the Python keywords.  Enter any keyword to get more help.\n",
            "\n",
            "False               class               from                or\n",
            "None                continue            global              pass\n",
            "True                def                 if                  raise\n",
            "and                 del                 import              return\n",
            "as                  elif                in                  try\n",
            "assert              else                is                  while\n",
            "async               except              lambda              with\n",
            "await               finally             nonlocal            yield\n",
            "break               for                 not                 \n",
            "\n"
          ]
        }
      ]
    },
    {
      "cell_type": "markdown",
      "source": [
        "**4) Write a program that checks if a given word is a Python keyword**.\n"
      ],
      "metadata": {
        "id": "YbD4qvB4k8hf"
      }
    },
    {
      "cell_type": "code",
      "source": [
        "import keyword  # Import the correct module for keywords\n",
        "\n",
        "# Get the word from the user\n",
        "word = input(\"Enter a word to check if it's a Python keyword: \")\n",
        "\n",
        "# Check if the word is a keyword and print the result\n",
        "print(f\"'{word}' is a Python keyword: {keyword.iskeyword(word)}\")\n"
      ],
      "metadata": {
        "colab": {
          "base_uri": "https://localhost:8080/"
        },
        "id": "l5dwlO_amg0G",
        "outputId": "c3617ec9-17d3-42b9-db90-594d21ba766e"
      },
      "execution_count": null,
      "outputs": [
        {
          "output_type": "stream",
          "name": "stdout",
          "text": [
            "Enter a word to check if it's a Python keyword: while\n",
            "'while' is a Python keyword: True\n"
          ]
        }
      ]
    },
    {
      "cell_type": "markdown",
      "source": [
        "**5) Create a list and tuple in Python, and demonstrate how attempting to change an element works differently for each.**"
      ],
      "metadata": {
        "id": "sC_3b_Fznree"
      }
    },
    {
      "cell_type": "code",
      "source": [
        "# Creating a list\n",
        "my_list = [1, 2, 3, 4, 5]\n",
        "print(\"Original List:\", my_list)\n",
        "\n",
        "# Attempting to change an element in the list\n",
        "my_list[2] = 99  # Changing the third element (index 2)\n",
        "print(\"Modified List:\", my_list)\n",
        "\n"
      ],
      "metadata": {
        "colab": {
          "base_uri": "https://localhost:8080/"
        },
        "id": "VFfIvWNSqPU9",
        "outputId": "f5660567-6f6f-42fc-cd48-7db923a8e1a7"
      },
      "execution_count": null,
      "outputs": [
        {
          "output_type": "stream",
          "name": "stdout",
          "text": [
            "Original List: [1, 2, 3, 4, 5]\n",
            "Modified List: [1, 2, 99, 4, 5]\n"
          ]
        }
      ]
    },
    {
      "cell_type": "code",
      "source": [
        "# Creating a tuple\n",
        "my_tuple = (1, 2, 3, 4, 5)\n",
        "print(\"Original Tuple:\", my_tuple)\n",
        "\n",
        "# Attempting to change an element in the tuple\n",
        "try:\n",
        "    my_tuple[2] = 99  # This will raise an error\n",
        "except TypeError as e:\n",
        "    print(\"Error:\", e)"
      ],
      "metadata": {
        "colab": {
          "base_uri": "https://localhost:8080/"
        },
        "id": "XHmbZ9IjqvDc",
        "outputId": "dcfa4dea-dc86-4ebf-ec97-21152ebb912e"
      },
      "execution_count": null,
      "outputs": [
        {
          "output_type": "stream",
          "name": "stdout",
          "text": [
            "Original Tuple: (1, 2, 3, 4, 5)\n",
            "Error: 'tuple' object does not support item assignment\n"
          ]
        }
      ]
    },
    {
      "cell_type": "markdown",
      "source": [
        "**6) Write a function to demonstrate the behavior of mutable and immutable arguments.**\n"
      ],
      "metadata": {
        "id": "hrB-eorerGQn"
      }
    },
    {
      "cell_type": "code",
      "source": [
        "#mutable behaviour\n",
        "# Demonstrating mutable behavior with a list\n",
        "list_cont = [ 1, 2, 3.3, (3+5j), \"pinky\", True]\n",
        "list_cont"
      ],
      "metadata": {
        "colab": {
          "base_uri": "https://localhost:8080/"
        },
        "id": "r35hanVgsOQy",
        "outputId": "152236fc-3c07-4610-cbd6-e34f1db4e304"
      },
      "execution_count": null,
      "outputs": [
        {
          "output_type": "execute_result",
          "data": {
            "text/plain": [
              "[1, 2, 3.3, (3+5j), 'pinky', True]"
            ]
          },
          "metadata": {},
          "execution_count": 22
        }
      ]
    },
    {
      "cell_type": "code",
      "source": [
        " #Modifying the mutable list\n",
        " list_cont.append(4)\n",
        " list_cont"
      ],
      "metadata": {
        "colab": {
          "base_uri": "https://localhost:8080/"
        },
        "id": "9Cy7TLqRypH-",
        "outputId": "bb9c9bad-5d30-4fbe-d523-a92aca597fe7"
      },
      "execution_count": null,
      "outputs": [
        {
          "output_type": "execute_result",
          "data": {
            "text/plain": [
              "[1, 2, 3.3, (3+5j), 'pinky', True, 4]"
            ]
          },
          "metadata": {},
          "execution_count": 23
        }
      ]
    },
    {
      "cell_type": "code",
      "source": [
        "list_cont[2] = 10\n",
        "list_cont"
      ],
      "metadata": {
        "colab": {
          "base_uri": "https://localhost:8080/"
        },
        "id": "Yiaizw8gzPgO",
        "outputId": "9ed305f2-2335-4639-fe1f-deb969e78b1a"
      },
      "execution_count": null,
      "outputs": [
        {
          "output_type": "execute_result",
          "data": {
            "text/plain": [
              "[1, 2, 10, (3+5j), 'pinky', True, 4]"
            ]
          },
          "metadata": {},
          "execution_count": 27
        }
      ]
    },
    {
      "cell_type": "code",
      "source": [
        "#immutable behaviour\n",
        "# Demonstrating immutable behavior with a tuple\n",
        "t = (1, 2, 3.3, (3+5j), \"pinky\", True)\n",
        "t"
      ],
      "metadata": {
        "colab": {
          "base_uri": "https://localhost:8080/"
        },
        "id": "utCwei3SzZC2",
        "outputId": "d3c52599-3dbc-4cfe-b61c-a32dab233ffc"
      },
      "execution_count": null,
      "outputs": [
        {
          "output_type": "execute_result",
          "data": {
            "text/plain": [
              "(1, 2, 3.3, (3+5j), 'pinky', True)"
            ]
          },
          "metadata": {},
          "execution_count": 28
        }
      ]
    },
    {
      "cell_type": "code",
      "source": [
        "#Attempting to modify\n",
        "try:\n",
        "    t[4]= \"pwskills\"\n",
        "except TypeError as e:\n",
        "    print(\"Error:\", e)"
      ],
      "metadata": {
        "colab": {
          "base_uri": "https://localhost:8080/"
        },
        "id": "8753gLLC0sD5",
        "outputId": "16db566c-1596-4f18-9833-9b54ac2b2b50"
      },
      "execution_count": null,
      "outputs": [
        {
          "output_type": "stream",
          "name": "stdout",
          "text": [
            "Error: 'tuple' object does not support item assignment\n"
          ]
        }
      ]
    },
    {
      "cell_type": "markdown",
      "source": [
        "**7) Write a program to demonstrate the use of logical operators.**\n",
        "\n",
        "\n",
        "\n",
        "\n"
      ],
      "metadata": {
        "id": "Ynkoo5NZ1udt"
      }
    },
    {
      "cell_type": "code",
      "source": [
        "#demonstration on how logical operators work in Python\n",
        "# Define variables\n",
        "a = 5\n",
        "b = 10\n",
        "\n",
        "# Using 'and' logical operator\n",
        "print(a > 3 and b < 15)  # True because both conditions are True\n",
        "\n",
        "# Using 'or' logical operator\n",
        "print(a < 3 or b > 5)    # True because at least one condition is True\n",
        "\n",
        "# Using 'not' logical operator\n",
        "print(not a > 3)         # False because a > 3 is True, and 'not' reverses it\n"
      ],
      "metadata": {
        "colab": {
          "base_uri": "https://localhost:8080/"
        },
        "id": "wJrgTD8G2YJ3",
        "outputId": "2fe8553c-6b73-4d7c-9416-a2cfaedf4c9e"
      },
      "execution_count": null,
      "outputs": [
        {
          "output_type": "stream",
          "name": "stdout",
          "text": [
            "True\n",
            "True\n",
            "False\n"
          ]
        }
      ]
    },
    {
      "cell_type": "markdown",
      "source": [
        "**8) Write a Python program to convert user input from string to integer, float, and boolean types**"
      ],
      "metadata": {
        "id": "ifalP7qT5Hr5"
      }
    },
    {
      "cell_type": "code",
      "source": [
        "# Take user input as a string\n",
        "user_input = input(\"Enter something: \")\n"
      ],
      "metadata": {
        "id": "Vl0QWyTsC2aV",
        "colab": {
          "base_uri": "https://localhost:8080/"
        },
        "outputId": "534f6f18-e217-4b32-ee3a-ba11baa0d044"
      },
      "execution_count": null,
      "outputs": [
        {
          "name": "stdout",
          "output_type": "stream",
          "text": [
            "Enter something: pwskills\n"
          ]
        }
      ]
    },
    {
      "cell_type": "code",
      "source": [
        "# Convert to integer (if valid)\n",
        "try:\n",
        "    int_value = int(user_input)\n",
        "    print(\"Integer:\", int_value)\n",
        "except ValueError:\n",
        "    print(\"Cannot convert to Integer.\")\n",
        "\n"
      ],
      "metadata": {
        "colab": {
          "base_uri": "https://localhost:8080/"
        },
        "id": "ZxiOOyjBDGQe",
        "outputId": "903eaec9-7ec1-49f2-d339-6fd4698b7f19"
      },
      "execution_count": null,
      "outputs": [
        {
          "output_type": "stream",
          "name": "stdout",
          "text": [
            "Cannot convert to Integer.\n"
          ]
        }
      ]
    },
    {
      "cell_type": "code",
      "source": [
        "# Convert to float (if valid)\n",
        "try:\n",
        "    float_value = float(user_input)\n",
        "    print(\"Float:\", float_value)\n",
        "except ValueError:\n",
        "    print(\"Cannot convert to Float.\")\n",
        "\n"
      ],
      "metadata": {
        "colab": {
          "base_uri": "https://localhost:8080/"
        },
        "id": "IpyhGxJbDpAs",
        "outputId": "6464b910-611c-47fe-b489-70db1562a064"
      },
      "execution_count": null,
      "outputs": [
        {
          "output_type": "stream",
          "name": "stdout",
          "text": [
            "Cannot convert to Float.\n"
          ]
        }
      ]
    },
    {
      "cell_type": "code",
      "source": [
        "# Convert to boolean\n",
        "# Empty string or \"0\" is considered False, everything else is True\n",
        "bool_value = bool(user_input)\n",
        "print(\"Boolean:\", bool_value)\n"
      ],
      "metadata": {
        "colab": {
          "base_uri": "https://localhost:8080/"
        },
        "id": "D0Ofn7vuDurU",
        "outputId": "33aece37-cb18-46e1-c99c-14504ed02e85"
      },
      "execution_count": null,
      "outputs": [
        {
          "output_type": "stream",
          "name": "stdout",
          "text": [
            "Boolean: True\n"
          ]
        }
      ]
    },
    {
      "cell_type": "markdown",
      "source": [
        "**9) Write code to demonstrate type casting with list elements.**"
      ],
      "metadata": {
        "id": "UwT8iXcBEYQq"
      }
    },
    {
      "cell_type": "code",
      "source": [
        "# List with elements as strings\n",
        "my_list = [\"10\", \"20.5\", \"30\", \"40.5\"]\n",
        "\n",
        "# Convert to integers\n",
        "try:\n",
        "    int_list = [int(x) for x in my_list]\n",
        "    print(\"Integer List:\", int_list)\n",
        "except ValueError:\n",
        "    print(\"Cannot convert to Integer.\")\n"
      ],
      "metadata": {
        "colab": {
          "base_uri": "https://localhost:8080/"
        },
        "id": "dK0w5Hm6FM6h",
        "outputId": "d33b43be-bdb2-4b80-d994-c414e7ed715b"
      },
      "execution_count": null,
      "outputs": [
        {
          "output_type": "stream",
          "name": "stdout",
          "text": [
            "Cannot convert to Integer.\n"
          ]
        }
      ]
    },
    {
      "cell_type": "code",
      "source": [
        "# Convert to floats\n",
        "try:\n",
        "  float_list = [float(item) for item in my_list]\n",
        "  print(\"Converted to floats:\", float_list)\n",
        "except ValueError:\n",
        "    print(\"Cannot convert to Float.\")\n"
      ],
      "metadata": {
        "colab": {
          "base_uri": "https://localhost:8080/"
        },
        "id": "vFVXy3ZRFQK4",
        "outputId": "d5f630bd-339f-4b89-f9e0-b20b049236f1"
      },
      "execution_count": null,
      "outputs": [
        {
          "output_type": "stream",
          "name": "stdout",
          "text": [
            "Converted to floats: [10.0, 20.5, 30.0, 40.5]\n"
          ]
        }
      ]
    },
    {
      "cell_type": "code",
      "source": [
        "# Convert to booleans\n",
        "bool_list = [bool(item) for item in my_list]\n",
        "print(\"Converted to booleans:\", bool_list)\n"
      ],
      "metadata": {
        "colab": {
          "base_uri": "https://localhost:8080/"
        },
        "id": "pFtVWc9JGMeZ",
        "outputId": "234d034d-f8d1-4140-cb8e-202de5fe0979"
      },
      "execution_count": null,
      "outputs": [
        {
          "output_type": "stream",
          "name": "stdout",
          "text": [
            "Converted to booleans: [True, True, True, True]\n"
          ]
        }
      ]
    },
    {
      "cell_type": "code",
      "source": [
        "# Convert to strings (just for demonstration)\n",
        "str_list = [str(item) for item in my_list]\n",
        "print(\"Converted to strings:\", str_list)"
      ],
      "metadata": {
        "colab": {
          "base_uri": "https://localhost:8080/"
        },
        "id": "Gxxh6dHNGUkZ",
        "outputId": "68cbe041-6f9a-4008-f0c1-376564143bff"
      },
      "execution_count": null,
      "outputs": [
        {
          "output_type": "stream",
          "name": "stdout",
          "text": [
            "Converted to strings: ['10', '20.5', '30', '40.5']\n"
          ]
        }
      ]
    },
    {
      "cell_type": "markdown",
      "source": [
        "**10) Write a program that checks if a number is positive, negative, or zero.**\n"
      ],
      "metadata": {
        "id": "deO3yKdPGkco"
      }
    },
    {
      "cell_type": "code",
      "source": [
        "# Take input from the user\n",
        "num = float(input(\"Enter a number: \"))\n",
        "\n",
        "# Check if the number is positive, negative, or zero\n",
        "if num > 0:\n",
        "    print(\"The number is positive.\")\n",
        "elif num < 0:\n",
        "    print(\"The number is negative.\")\n",
        "else:\n",
        "    print(\"The number is zero.\")\n"
      ],
      "metadata": {
        "colab": {
          "base_uri": "https://localhost:8080/"
        },
        "id": "HIub8h1zGcAj",
        "outputId": "0edc0221-b5ef-4630-fbfc-dbf68faa38e4"
      },
      "execution_count": null,
      "outputs": [
        {
          "output_type": "stream",
          "name": "stdout",
          "text": [
            "Enter a number: 2.3\n",
            "The number is positive.\n"
          ]
        }
      ]
    },
    {
      "cell_type": "markdown",
      "source": [
        "**11) Write a for loop to print numbers from 1 to 10.**"
      ],
      "metadata": {
        "id": "X_XacB9iHZ88"
      }
    },
    {
      "cell_type": "code",
      "source": [
        "for i in range(1, 11):\n",
        "    print(i)"
      ],
      "metadata": {
        "colab": {
          "base_uri": "https://localhost:8080/"
        },
        "id": "jarcRXbCHjJH",
        "outputId": "b036a241-f681-4380-c991-95c7e8811c26"
      },
      "execution_count": null,
      "outputs": [
        {
          "output_type": "stream",
          "name": "stdout",
          "text": [
            "1\n",
            "2\n",
            "3\n",
            "4\n",
            "5\n",
            "6\n",
            "7\n",
            "8\n",
            "9\n",
            "10\n"
          ]
        }
      ]
    },
    {
      "cell_type": "markdown",
      "source": [
        "**12) Write a Python program to find the sum of all even numbers between 1 and 50.**"
      ],
      "metadata": {
        "id": "JJ7BLPrmHylb"
      }
    },
    {
      "cell_type": "code",
      "source": [
        "# Initialize the sum variable\n",
        "sum_even_numbers = 0\n",
        "\n",
        "# Loop through numbers from 1 to 50\n",
        "sum_even_numbers = 0 # nothing has been added yet\n",
        "for num in range(1, 51):\n",
        "    if num % 2 == 0:  # Check if the number is even\n",
        "        sum_even_numbers += num  # Add the even number to the sum\n",
        "\n",
        "# Print the sum of even numbers\n",
        "print(sum_even_numbers)\n",
        "print(\"Sum of all even numbers between 1 and 50:\", sum_even_numbers)\n"
      ],
      "metadata": {
        "colab": {
          "base_uri": "https://localhost:8080/"
        },
        "id": "jqiS75wKHuuU",
        "outputId": "60ff7d88-3154-49a9-cd7c-ee109fa66ee1"
      },
      "execution_count": null,
      "outputs": [
        {
          "output_type": "stream",
          "name": "stdout",
          "text": [
            "650\n",
            "Sum of all even numbers between 1 and 50: 650\n"
          ]
        }
      ]
    },
    {
      "cell_type": "markdown",
      "source": [
        "**13) Write a program to reverse a string using a while loop.**"
      ],
      "metadata": {
        "id": "rJAxYoToJU4n"
      }
    },
    {
      "cell_type": "code",
      "source": [
        "# Input string from the user\n",
        "user_string = input(\"Enter a string: \")\n",
        "\n",
        "# Initialize an index to the last character\n",
        "index = len(user_string) - 1\n",
        "\n",
        "# Initialize an empty string for the reversed string\n",
        "reversed_string = \"\"\n",
        "\n",
        "# Loop through the string and reverse it\n",
        "while index >= 0:\n",
        "    reversed_string += user_string[index]  # Add character to reversed string\n",
        "    index -= 1  # Move to the previous character\n",
        "\n",
        "# Output the reversed string\n",
        "print(reversed_string)\n"
      ],
      "metadata": {
        "colab": {
          "base_uri": "https://localhost:8080/"
        },
        "id": "gPFuEmirJYSu",
        "outputId": "2d1731a0-d07b-48ee-8721-0e7a7ef28acb"
      },
      "execution_count": null,
      "outputs": [
        {
          "output_type": "stream",
          "name": "stdout",
          "text": [
            "Enter a string: python\n",
            "nohtyp\n"
          ]
        }
      ]
    },
    {
      "cell_type": "markdown",
      "source": [
        "**14) Write a Python program to calculate the factorial of a number provided by the user using a while loop.**"
      ],
      "metadata": {
        "id": "mWJIiGGsJJDC"
      }
    },
    {
      "cell_type": "code",
      "source": [
        "# Input number from the user\n",
        "num = int(input(\"Enter a number: \"))\n",
        "\n",
        "# Initialize the factorial result to 1\n",
        "factorial = 1\n",
        "\n",
        "# Check if the number is negative, zero or positive\n",
        "if num < 0:\n",
        "    print(\"Factorial is not defined for negative numbers.\")\n",
        "elif num == 0:\n",
        "    print(\"The factorial of 0 is 1.\")\n",
        "else:\n",
        "    # Calculate factorial using a while loop\n",
        "    while num > 0:\n",
        "        factorial *= num  # Multiply current factorial by the current number\n",
        "        num -= 1  # Decrement the number\n",
        "    print(\"Factorial is:\", factorial)\n"
      ],
      "metadata": {
        "colab": {
          "base_uri": "https://localhost:8080/"
        },
        "id": "WsLh3Q1JJ2WT",
        "outputId": "cc48e57a-1824-4f18-a3df-076877c25068"
      },
      "execution_count": null,
      "outputs": [
        {
          "output_type": "stream",
          "name": "stdout",
          "text": [
            "Enter a number: 6\n",
            "Factorial is: 720\n"
          ]
        }
      ]
    },
    {
      "cell_type": "code",
      "source": [],
      "metadata": {
        "id": "lCAVmhxyO1wF"
      },
      "execution_count": null,
      "outputs": []
    }
  ]
}